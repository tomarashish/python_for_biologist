{
 "cells": [
  {
   "cell_type": "markdown",
   "metadata": {},
   "source": []
  },
  {
   "cell_type": "markdown",
   "metadata": {},
   "source": [
    "#### 1. Using notebook as calculator \n",
    "* Using python as calculator \n",
    "* Assign a = 10 and b = 20\n",
    "* Add a and b \n",
    "* Substract a and b\n",
    "* Multiply a and b\n",
    "\n",
    "Note: use '=' for assignment. \n",
    "Hint: for addition assign given values and print a+b in the code cell"
   ]
  },
  {
   "cell_type": "code",
   "execution_count": null,
   "metadata": {},
   "outputs": [],
   "source": []
  },
  {
   "cell_type": "markdown",
   "metadata": {},
   "source": [
    "#### 2. Assign value to a variable\n",
    "* Create a numeric variable and store value of pi\n",
    "* Create a string variable and store a gene feature\n",
    "* Write a print statement for both variable\n",
    "\n",
    "Note: Use '=' sign to store a value in a variable.  "
   ]
  },
  {
   "cell_type": "code",
   "execution_count": null,
   "metadata": {},
   "outputs": [],
   "source": []
  },
  {
   "cell_type": "markdown",
   "metadata": {},
   "source": [
    "#### 3. Assign multiple values \n",
    "* Assign 3 values(string, float, string) to varaibles (allele, allele_frequency, impact)\n",
    "\n",
    "Note: use comma seperated variable names along with '=' sign followed by comma seperated 3 values"
   ]
  },
  {
   "cell_type": "code",
   "execution_count": null,
   "metadata": {},
   "outputs": [],
   "source": []
  },
  {
   "cell_type": "markdown",
   "metadata": {},
   "source": [
    "#### 2. \n"
   ]
  }
 ],
 "metadata": {
  "kernelspec": {
   "display_name": "Python 3",
   "language": "python",
   "name": "python3"
  },
  "language_info": {
   "codemirror_mode": {
    "name": "ipython",
    "version": 3
   },
   "file_extension": ".py",
   "mimetype": "text/x-python",
   "name": "python",
   "nbconvert_exporter": "python",
   "pygments_lexer": "ipython3",
   "version": "3.6.5"
  }
 },
 "nbformat": 4,
 "nbformat_minor": 2
}
